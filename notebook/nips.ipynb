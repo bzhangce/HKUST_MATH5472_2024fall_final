{
 "cells": [
  {
   "cell_type": "code",
   "execution_count": 1,
   "metadata": {},
   "outputs": [],
   "source": [
    "# env: CASIA2024-final"
   ]
  },
  {
   "cell_type": "code",
   "execution_count": 2,
   "metadata": {},
   "outputs": [],
   "source": [
    "# import packages\n",
    "import pandas as pd\n",
    "import numpy as np\n",
    "import matplotlib.pyplot as plt"
   ]
  },
  {
   "cell_type": "code",
   "execution_count": 3,
   "metadata": {},
   "outputs": [],
   "source": [
    "from functions.EM_poisson_nmf import EM_poisson_nmf"
   ]
  },
  {
   "cell_type": "markdown",
   "metadata": {},
   "source": [
    "Load data"
   ]
  },
  {
   "cell_type": "markdown",
   "metadata": {},
   "source": [
    "NIPS 1–17 data contains distribution of words in all NIPS papers from 1988 to 2003.The raw data can be downloaded [here](https://ai.stanford.edu/~gal/data.html). NIPS 1–17 data prepared by the author for subsequent topic modeling analyses can be downloaded [here](https://stephenslab.github.io/fastTopics-experiments/prepare_nips_data.html)."
   ]
  },
  {
   "cell_type": "code",
   "execution_count": 4,
   "metadata": {},
   "outputs": [
    {
     "name": "stdout",
     "output_type": "stream",
     "text": [
      "<class 'pandas.core.frame.DataFrame'>\n",
      "Index: 2483 entries, 1987/0001 to 2003/VM15\n",
      "Columns: 14036 entries, aaa to zxt\n",
      "dtypes: int64(14036)\n",
      "memory usage: 265.9+ MB\n"
     ]
    }
   ],
   "source": [
    "df = pd.read_csv('../data/nips.csv', index_col=0)\n",
    "df.info()"
   ]
  },
  {
   "cell_type": "code",
   "execution_count": 5,
   "metadata": {},
   "outputs": [
    {
     "data": {
      "text/html": [
       "<div>\n",
       "<style scoped>\n",
       "    .dataframe tbody tr th:only-of-type {\n",
       "        vertical-align: middle;\n",
       "    }\n",
       "\n",
       "    .dataframe tbody tr th {\n",
       "        vertical-align: top;\n",
       "    }\n",
       "\n",
       "    .dataframe thead th {\n",
       "        text-align: right;\n",
       "    }\n",
       "</style>\n",
       "<table border=\"1\" class=\"dataframe\">\n",
       "  <thead>\n",
       "    <tr style=\"text-align: right;\">\n",
       "      <th></th>\n",
       "      <th>aaa</th>\n",
       "      <th>aaai</th>\n",
       "      <th>aat</th>\n",
       "      <th>abalone</th>\n",
       "      <th>abandon</th>\n",
       "      <th>abandoned</th>\n",
       "      <th>abbott</th>\n",
       "      <th>abbreviate</th>\n",
       "      <th>abbreviated</th>\n",
       "      <th>abc</th>\n",
       "      <th>...</th>\n",
       "      <th>zones</th>\n",
       "      <th>zontal</th>\n",
       "      <th>zoo</th>\n",
       "      <th>zoom</th>\n",
       "      <th>zornetzer</th>\n",
       "      <th>zoubin</th>\n",
       "      <th>zucker</th>\n",
       "      <th>zur</th>\n",
       "      <th>zurich</th>\n",
       "      <th>zxt</th>\n",
       "    </tr>\n",
       "  </thead>\n",
       "  <tbody>\n",
       "    <tr>\n",
       "      <th>1987/0001</th>\n",
       "      <td>0</td>\n",
       "      <td>0</td>\n",
       "      <td>0</td>\n",
       "      <td>0</td>\n",
       "      <td>0</td>\n",
       "      <td>0</td>\n",
       "      <td>0</td>\n",
       "      <td>0</td>\n",
       "      <td>0</td>\n",
       "      <td>0</td>\n",
       "      <td>...</td>\n",
       "      <td>0</td>\n",
       "      <td>0</td>\n",
       "      <td>0</td>\n",
       "      <td>0</td>\n",
       "      <td>0</td>\n",
       "      <td>0</td>\n",
       "      <td>0</td>\n",
       "      <td>0</td>\n",
       "      <td>0</td>\n",
       "      <td>0</td>\n",
       "    </tr>\n",
       "    <tr>\n",
       "      <th>1987/0009</th>\n",
       "      <td>0</td>\n",
       "      <td>0</td>\n",
       "      <td>0</td>\n",
       "      <td>0</td>\n",
       "      <td>0</td>\n",
       "      <td>0</td>\n",
       "      <td>0</td>\n",
       "      <td>0</td>\n",
       "      <td>0</td>\n",
       "      <td>0</td>\n",
       "      <td>...</td>\n",
       "      <td>0</td>\n",
       "      <td>0</td>\n",
       "      <td>0</td>\n",
       "      <td>0</td>\n",
       "      <td>0</td>\n",
       "      <td>0</td>\n",
       "      <td>0</td>\n",
       "      <td>0</td>\n",
       "      <td>0</td>\n",
       "      <td>0</td>\n",
       "    </tr>\n",
       "    <tr>\n",
       "      <th>1987/0022</th>\n",
       "      <td>0</td>\n",
       "      <td>0</td>\n",
       "      <td>0</td>\n",
       "      <td>0</td>\n",
       "      <td>0</td>\n",
       "      <td>0</td>\n",
       "      <td>0</td>\n",
       "      <td>0</td>\n",
       "      <td>0</td>\n",
       "      <td>0</td>\n",
       "      <td>...</td>\n",
       "      <td>0</td>\n",
       "      <td>0</td>\n",
       "      <td>0</td>\n",
       "      <td>0</td>\n",
       "      <td>0</td>\n",
       "      <td>0</td>\n",
       "      <td>0</td>\n",
       "      <td>0</td>\n",
       "      <td>0</td>\n",
       "      <td>0</td>\n",
       "    </tr>\n",
       "    <tr>\n",
       "      <th>1987/0031</th>\n",
       "      <td>0</td>\n",
       "      <td>0</td>\n",
       "      <td>0</td>\n",
       "      <td>0</td>\n",
       "      <td>0</td>\n",
       "      <td>0</td>\n",
       "      <td>0</td>\n",
       "      <td>0</td>\n",
       "      <td>0</td>\n",
       "      <td>0</td>\n",
       "      <td>...</td>\n",
       "      <td>0</td>\n",
       "      <td>0</td>\n",
       "      <td>0</td>\n",
       "      <td>0</td>\n",
       "      <td>0</td>\n",
       "      <td>0</td>\n",
       "      <td>0</td>\n",
       "      <td>0</td>\n",
       "      <td>0</td>\n",
       "      <td>0</td>\n",
       "    </tr>\n",
       "    <tr>\n",
       "      <th>1987/0041</th>\n",
       "      <td>0</td>\n",
       "      <td>0</td>\n",
       "      <td>0</td>\n",
       "      <td>0</td>\n",
       "      <td>0</td>\n",
       "      <td>0</td>\n",
       "      <td>0</td>\n",
       "      <td>0</td>\n",
       "      <td>0</td>\n",
       "      <td>0</td>\n",
       "      <td>...</td>\n",
       "      <td>0</td>\n",
       "      <td>0</td>\n",
       "      <td>0</td>\n",
       "      <td>0</td>\n",
       "      <td>0</td>\n",
       "      <td>0</td>\n",
       "      <td>0</td>\n",
       "      <td>0</td>\n",
       "      <td>0</td>\n",
       "      <td>0</td>\n",
       "    </tr>\n",
       "  </tbody>\n",
       "</table>\n",
       "<p>5 rows × 14036 columns</p>\n",
       "</div>"
      ],
      "text/plain": [
       "           aaa  aaai  aat  abalone  abandon  abandoned  abbott  abbreviate  \\\n",
       "1987/0001    0     0    0        0        0          0       0           0   \n",
       "1987/0009    0     0    0        0        0          0       0           0   \n",
       "1987/0022    0     0    0        0        0          0       0           0   \n",
       "1987/0031    0     0    0        0        0          0       0           0   \n",
       "1987/0041    0     0    0        0        0          0       0           0   \n",
       "\n",
       "           abbreviated  abc  ...  zones  zontal  zoo  zoom  zornetzer  zoubin  \\\n",
       "1987/0001            0    0  ...      0       0    0     0          0       0   \n",
       "1987/0009            0    0  ...      0       0    0     0          0       0   \n",
       "1987/0022            0    0  ...      0       0    0     0          0       0   \n",
       "1987/0031            0    0  ...      0       0    0     0          0       0   \n",
       "1987/0041            0    0  ...      0       0    0     0          0       0   \n",
       "\n",
       "           zucker  zur  zurich  zxt  \n",
       "1987/0001       0    0       0    0  \n",
       "1987/0009       0    0       0    0  \n",
       "1987/0022       0    0       0    0  \n",
       "1987/0031       0    0       0    0  \n",
       "1987/0041       0    0       0    0  \n",
       "\n",
       "[5 rows x 14036 columns]"
      ]
     },
     "execution_count": 5,
     "metadata": {},
     "output_type": "execute_result"
    }
   ],
   "source": [
    "df.head()"
   ]
  },
  {
   "cell_type": "code",
   "execution_count": 6,
   "metadata": {},
   "outputs": [
    {
     "data": {
      "text/plain": [
       "np.float64(0.03742858103671509)"
      ]
     },
     "execution_count": 6,
     "metadata": {},
     "output_type": "execute_result"
    }
   ],
   "source": [
    "# calculate the non-zero ratio\n",
    "df.astype(bool).sum().sum() / df.size"
   ]
  },
  {
   "cell_type": "code",
   "execution_count": 7,
   "metadata": {},
   "outputs": [],
   "source": [
    "X = df.values"
   ]
  },
  {
   "cell_type": "code",
   "execution_count": 8,
   "metadata": {},
   "outputs": [],
   "source": [
    "K = 10\n",
    "max_iter = 300\n",
    "random_seed = 0"
   ]
  },
  {
   "cell_type": "markdown",
   "metadata": {},
   "source": [
    "Fit the model"
   ]
  },
  {
   "cell_type": "code",
   "execution_count": 9,
   "metadata": {},
   "outputs": [],
   "source": [
    "model = EM_poisson_nmf()\n",
    "L, F, loglikelihood = model.fit(X, K, max_iter, random_seed)"
   ]
  },
  {
   "cell_type": "markdown",
   "metadata": {},
   "source": [
    "Plot the loglikelihood curve."
   ]
  },
  {
   "cell_type": "code",
   "execution_count": 10,
   "metadata": {},
   "outputs": [
    {
     "data": {
      "image/png": "[encoded data removed]",
      "text/plain": [
       "<Figure size 640x480 with 1 Axes>"
      ]
     },
     "metadata": {},
     "output_type": "display_data"
    }
   ],
   "source": [
    "plt.figure()\n",
    "plt.plot(loglikelihood[-1] - loglikelihood)\n",
    "plt.xlabel('iteration')\n",
    "plt.ylabel('distance from the best loglikelihood')\n",
    "# plt.title('loglikelihood vs iteration')\n",
    "plt.show()"
   ]
  },
  {
   "cell_type": "markdown",
   "metadata": {},
   "source": [
    "Plot the Document-Topic proportion plot and classify the documents by year. We can be observed that the change in topic proportions is associated with the year."
   ]
  },
  {
   "cell_type": "code",
   "execution_count": 11,
   "metadata": {},
   "outputs": [
    {
     "data": {
      "image/png": "[encoded data removed]",
      "text/plain": [
       "<Figure size 1000x600 with 1 Axes>"
      ]
     },
     "metadata": {},
     "output_type": "display_data"
    }
   ],
   "source": [
    "# Extract year information as the grouping basis\n",
    "df['Year'] = df.index.str.split('/').str[0]\n",
    "\n",
    "# Get all unique years\n",
    "years = df['Year'].unique()\n",
    "\n",
    "# Set colors, ensuring each topic uses a consistent color\n",
    "colors = plt.cm.tab10.colors\n",
    "\n",
    "# Set the figure size\n",
    "plt.figure(figsize=(10, 6))\n",
    "\n",
    "# Initialize x-axis positions\n",
    "x_pos = np.arange(L.shape[0])  # Original x positions\n",
    "bottom = np.zeros(L.shape[0])  # Initialize the bottom positions for stacked bars\n",
    "\n",
    "# Record the starting position of each year's bar group\n",
    "year_positions = []\n",
    "current_position = 0\n",
    "\n",
    "# Draw grouped bar charts by year\n",
    "for year in years:\n",
    "    # Get the indices of the current year\n",
    "    year_indices = df[df['Year'] == year].index\n",
    "    year_data = L[df.index.isin(year_indices), :]\n",
    "    \n",
    "    # Record the center position of the current year's bar group\n",
    "    year_positions.append(current_position + year_data.shape[0] / 2)\n",
    "    \n",
    "    # Draw stacked bars for the current year\n",
    "    bottom_group = np.zeros(year_data.shape[0])\n",
    "    for k in range(K):\n",
    "        plt.bar(range(current_position, current_position + year_data.shape[0]), \n",
    "                year_data[:, k], \n",
    "                bottom=bottom_group, \n",
    "                color=colors[k], \n",
    "                label=f'Topic {k+1}' if current_position == 0 else \"\")\n",
    "        bottom_group += year_data[:, k]  # Update the bottom position for the next topic\n",
    "    \n",
    "    # Update the starting position for the next year's bars\n",
    "    current_position += year_data.shape[0] + 100  # Leave space between groups\n",
    "\n",
    "# Set x-axis labels\n",
    "plt.xticks(year_positions, years, rotation=45)\n",
    "\n",
    "# Set labels and title\n",
    "plt.xlabel('Year')\n",
    "plt.ylabel('Topic Proportion')\n",
    "plt.title('Document-Topic Distribution by Year')\n",
    "\n",
    "# Display legend\n",
    "# plt.legend(title='Topics')\n",
    "\n",
    "# Show the plot\n",
    "plt.tight_layout()\n",
    "plt.show()"
   ]
  },
  {
   "cell_type": "markdown",
   "metadata": {},
   "source": [
    "Find the ten words most related to a word."
   ]
  },
  {
   "cell_type": "code",
   "execution_count": 12,
   "metadata": {},
   "outputs": [
    {
     "data": {
      "text/plain": [
       "Index(['father', 'apprentissage', 'prod', 'accesses', 'sped', 'judiciously',\n",
       "       'timetlon', 'algorith', 'reprint', 'matfix'],\n",
       "      dtype='object')"
      ]
     },
     "execution_count": 12,
     "metadata": {},
     "output_type": "execute_result"
    }
   ],
   "source": [
    "index_want = df.columns.get_loc('father')\n",
    "dist_want = np.linalg.norm(F - F[index_want], axis=1, ord=2)\n",
    "index_closest = np.argsort(dist_want)[:10]\n",
    "df_closest = df.columns[index_closest]\n",
    "df_closest"
   ]
  }
 ],
 "metadata": {
  "kernelspec": {
   "display_name": "CASIA2024-final",
   "language": "python",
   "name": "python3"
  },
  "language_info": {
   "codemirror_mode": {
    "name": "ipython",
    "version": 3
   },
   "file_extension": ".py",
   "mimetype": "text/x-python",
   "name": "python",
   "nbconvert_exporter": "python",
   "pygments_lexer": "ipython3",
   "version": "3.11.11"
  }
 },
 "nbformat": 4,
 "nbformat_minor": 2
}
